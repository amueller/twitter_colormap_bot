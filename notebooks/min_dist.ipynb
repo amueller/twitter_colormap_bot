{
 "cells": [
  {
   "cell_type": "code",
   "execution_count": 1,
   "metadata": {
    "collapsed": true
   },
   "outputs": [],
   "source": [
    "import math\n",
    "import numpy as np"
   ]
  },
  {
   "cell_type": "markdown",
   "metadata": {},
   "source": [
    "# Test data"
   ]
  },
  {
   "cell_type": "code",
   "execution_count": 2,
   "metadata": {
    "collapsed": false
   },
   "outputs": [
    {
     "data": {
      "text/plain": [
       "[2.23606797749979, 1.0, 2.23606797749979, 1.0]"
      ]
     },
     "execution_count": 2,
     "metadata": {},
     "output_type": "execute_result"
    }
   ],
   "source": [
    "points = np.array([[1, 2], [3, 4], [5, 6], [5, 4]])\n",
    "references = np.array([[0, 0], [3, 3], [4, 4]])\n",
    "distance = lambda x, y: math.sqrt(sum((X - Y) * (X - Y) for X, Y in zip(x, y)))\n",
    "[min(distance(p, r) for r in references) for p in points]"
   ]
  },
  {
   "cell_type": "markdown",
   "metadata": {},
   "source": [
    "# Bigger test data for timing"
   ]
  },
  {
   "cell_type": "code",
   "execution_count": 3,
   "metadata": {
    "collapsed": false
   },
   "outputs": [],
   "source": [
    "points = np.random.rand(10000, 2)\n",
    "references = np.random.rand(100, 2)"
   ]
  },
  {
   "cell_type": "markdown",
   "metadata": {},
   "source": [
    "# My version: vectorized, uses more memory than needed"
   ]
  },
  {
   "cell_type": "code",
   "execution_count": 4,
   "metadata": {
    "collapsed": false
   },
   "outputs": [
    {
     "name": "stdout",
     "output_type": "stream",
     "text": [
      "10 loops, best of 3: 43.5 ms per loop\n"
     ]
    }
   ],
   "source": [
    "%%timeit\n",
    "diff = (np.repeat(points.reshape(1, points.shape[0], 2), references.shape[0], axis=0) -\n",
    "        np.repeat(references.reshape(references.shape[0], 1, 2), points.shape[0], axis=1))\n",
    "\n",
    "dist_sq = np.sum(diff ** 2, axis=2)\n",
    "\n",
    "min_dist_sq = dist_sq.min(axis=0)"
   ]
  },
  {
   "cell_type": "code",
   "execution_count": 5,
   "metadata": {
    "collapsed": false
   },
   "outputs": [
    {
     "data": {
      "text/plain": [
       "array([ 0.08958463,  0.04770848,  0.06358966, ...,  0.086152  ,\n",
       "        0.0249977 ,  0.06052602])"
      ]
     },
     "execution_count": 5,
     "metadata": {},
     "output_type": "execute_result"
    }
   ],
   "source": [
    "diff = (np.repeat(points.reshape(1, points.shape[0], 2), references.shape[0], axis=0) -\n",
    "        np.repeat(references.reshape(references.shape[0], 1, 2), points.shape[0], axis=1))\n",
    "\n",
    "dist_sq = np.sum(diff ** 2, axis=2)\n",
    "\n",
    "min_dist_sq = dist_sq.min(axis=0)\n",
    "\n",
    "min_dist = np.sqrt(min_dist_sq)\n",
    "min_dist"
   ]
  },
  {
   "cell_type": "markdown",
   "metadata": {},
   "source": [
    "# Joschi's version: clever spatial structure"
   ]
  },
  {
   "cell_type": "code",
   "execution_count": 6,
   "metadata": {
    "collapsed": true
   },
   "outputs": [],
   "source": [
    "from scipy.spatial import KDTree\n",
    "\n",
    "tree = KDTree(references)"
   ]
  },
  {
   "cell_type": "code",
   "execution_count": 7,
   "metadata": {
    "collapsed": false
   },
   "outputs": [
    {
     "name": "stdout",
     "output_type": "stream",
     "text": [
      "1 loop, best of 3: 1.07 s per loop\n"
     ]
    }
   ],
   "source": [
    "%%timeit\n",
    "distances, ixs = tree.query(points)"
   ]
  },
  {
   "cell_type": "code",
   "execution_count": 8,
   "metadata": {
    "collapsed": false
   },
   "outputs": [
    {
     "data": {
      "text/plain": [
       "array([ 0.08958463,  0.04770848,  0.06358966, ...,  0.086152  ,\n",
       "        0.0249977 ,  0.06052602])"
      ]
     },
     "execution_count": 8,
     "metadata": {},
     "output_type": "execute_result"
    }
   ],
   "source": [
    "distances, ixs = tree.query(points)\n",
    "distances"
   ]
  }
 ],
 "metadata": {
  "kernelspec": {
   "display_name": "Python 2",
   "language": "python",
   "name": "python2"
  },
  "language_info": {
   "codemirror_mode": {
    "name": "ipython",
    "version": 2
   },
   "file_extension": ".py",
   "mimetype": "text/x-python",
   "name": "python",
   "nbconvert_exporter": "python",
   "pygments_lexer": "ipython2",
   "version": "2.7.11"
  }
 },
 "nbformat": 4,
 "nbformat_minor": 0
}
